{
 "cells": [
  {
   "cell_type": "code",
   "execution_count": 25,
   "id": "9aad3063",
   "metadata": {},
   "outputs": [
    {
     "name": "stdout",
     "output_type": "stream",
     "text": [
      "        unit price  number\n",
      "store1        1000      25\n",
      "store2         280     120\n",
      "store3         900      30\n",
      "\n",
      "\n",
      "        unit price  number  total price\n",
      "store1        1000      25        25000\n",
      "store2         280     120        33600\n",
      "store3         900      30        27000\n",
      "\n",
      "\n",
      "most 2 expensive store\n",
      "\n",
      "        unit price  number  total price\n",
      "store2         280     120        33600\n",
      "store3         900      30        27000\n"
     ]
    }
   ],
   "source": [
    "import pandas as pd\n",
    "import numpy as np\n",
    "\n",
    "def main():\n",
    "    df=pd.DataFrame({'unit price':[1000,280,900],'number':[25,120,30]},index=['store1','store2','store3'])\n",
    "    print(df)\n",
    "    print()\n",
    "    print()\n",
    "    df['total price']=df['unit price']*df['number']\n",
    "    print(df)\n",
    "    \n",
    "    print()\n",
    "    print()\n",
    "    print('most 2 expensive store')\n",
    "    print()\n",
    "    print(df.nlargest(2,['total price']))\n",
    "if __name__==\"__main__\":\n",
    "    main()"
   ]
  },
  {
   "cell_type": "code",
   "execution_count": null,
   "id": "ba07905c",
   "metadata": {},
   "outputs": [],
   "source": []
  }
 ],
 "metadata": {
  "kernelspec": {
   "display_name": "Python 3 (ipykernel)",
   "language": "python",
   "name": "python3"
  },
  "language_info": {
   "codemirror_mode": {
    "name": "ipython",
    "version": 3
   },
   "file_extension": ".py",
   "mimetype": "text/x-python",
   "name": "python",
   "nbconvert_exporter": "python",
   "pygments_lexer": "ipython3",
   "version": "3.9.13"
  }
 },
 "nbformat": 4,
 "nbformat_minor": 5
}
