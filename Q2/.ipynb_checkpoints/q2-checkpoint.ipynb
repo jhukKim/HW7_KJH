{
 "cells": [
  {
   "cell_type": "code",
   "execution_count": 11,
   "id": "cb8c9ee4",
   "metadata": {},
   "outputs": [
    {
     "name": "stdout",
     "output_type": "stream",
     "text": [
      "doc1=0.58\n",
      "doc2=0.87\n",
      "doc3=0.67\n"
     ]
    }
   ],
   "source": [
    "import numpy as np\n",
    "from numpy import dot\n",
    "from numpy.linalg import norm\n",
    "\n",
    "def cos_sim(x,y):\n",
    "    return dot(x,y)/(norm(x)*norm(y))\n",
    "\n",
    "def main():\n",
    "    docs=np.array([\n",
    "        [1,1,0,1,0,1],\n",
    "        [1,1,1,0,1,0],\n",
    "        [1,1,0,1,0,0]\n",
    "    ])\n",
    "\n",
    "    query=np.array([1,1,0,0,1,0])\n",
    "    for i in range(3):\n",
    "        rslt=round(cos_sim(docs[i],query),2)\n",
    "        print(\"doc{}={}\".format(i+1,rslt))\n",
    "              \n",
    "if __name__==\"__main__\":\n",
    "              main()\n",
    "    "
   ]
  },
  {
   "cell_type": "code",
   "execution_count": null,
   "id": "d355dd95",
   "metadata": {},
   "outputs": [],
   "source": []
  }
 ],
 "metadata": {
  "kernelspec": {
   "display_name": "Python 3 (ipykernel)",
   "language": "python",
   "name": "python3"
  },
  "language_info": {
   "codemirror_mode": {
    "name": "ipython",
    "version": 3
   },
   "file_extension": ".py",
   "mimetype": "text/x-python",
   "name": "python",
   "nbconvert_exporter": "python",
   "pygments_lexer": "ipython3",
   "version": "3.9.13"
  }
 },
 "nbformat": 4,
 "nbformat_minor": 5
}
