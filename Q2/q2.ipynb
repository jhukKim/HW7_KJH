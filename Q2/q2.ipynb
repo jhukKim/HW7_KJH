{
 "cells": [
  {
   "cell_type": "code",
   "execution_count": 2,
   "id": "cb8c9ee4",
   "metadata": {},
   "outputs": [
    {
     "name": "stdout",
     "output_type": "stream",
     "text": [
      "doc1=0.5773502691896258\n",
      "doc2=0.8660254037844387\n",
      "doc3=0.6666666666666667\n"
     ]
    }
   ],
   "source": [
    "import numpy as np\n",
    "from numpy import dot\n",
    "from numpy.linalg import norm\n",
    "\n",
    "def cos(x,y):\n",
    "    return dot(x,y)/(norm(x)*norm(y))\n",
    "\n",
    "def main():\n",
    "    docs=np.array([\n",
    "        [1,1,0,1,0,1],\n",
    "        [1,1,1,0,1,0],\n",
    "        [1,1,0,1,0,0]\n",
    "    ])\n",
    "\n",
    "    query=np.array([1,1,0,0,1,0])\n",
    "    for i in range(3):\n",
    "        print(\"doc{}={}\".format(i+1,cos(docs[i],query)))\n",
    "              \n",
    "if __name__==\"__main__\":\n",
    "              main()\n",
    "    "
   ]
  },
  {
   "cell_type": "code",
   "execution_count": null,
   "id": "2e6efdb6",
   "metadata": {},
   "outputs": [],
   "source": []
  },
  {
   "cell_type": "code",
   "execution_count": null,
   "id": "6eb70799",
   "metadata": {},
   "outputs": [],
   "source": []
  },
  {
   "cell_type": "code",
   "execution_count": null,
   "id": "0aa540ef",
   "metadata": {},
   "outputs": [],
   "source": []
  }
 ],
 "metadata": {
  "kernelspec": {
   "display_name": "Python 3 (ipykernel)",
   "language": "python",
   "name": "python3"
  },
  "language_info": {
   "codemirror_mode": {
    "name": "ipython",
    "version": 3
   },
   "file_extension": ".py",
   "mimetype": "text/x-python",
   "name": "python",
   "nbconvert_exporter": "python",
   "pygments_lexer": "ipython3",
   "version": "3.9.13"
  }
 },
 "nbformat": 4,
 "nbformat_minor": 5
}
