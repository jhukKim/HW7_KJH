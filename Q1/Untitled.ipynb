{
 "cells": [
  {
   "cell_type": "code",
   "execution_count": 14,
   "id": "179d745c",
   "metadata": {},
   "outputs": [
    {
     "name": "stdout",
     "output_type": "stream",
     "text": [
      "eigenvalue:[-0.37228132  5.37228132]\n",
      "eigenvector:[[-0.82456484 -0.41597356]\n",
      " [ 0.56576746 -0.90937671]]\n",
      "determinant: -2.0000000000000004\n"
     ]
    }
   ],
   "source": [
    "import numpy as np\n",
    "\n",
    "eig=np.linalg.eig\n",
    "matrix=np.matrix([[1,2],[3,4]])\n",
    "\n",
    "print('eigenvalue:{}'.format(eig(matrix)[0]))\n",
    "print('eigenvector:{}'.format(eig(matrix)[1]))\n",
    "print('determinant: {}'.format(np.linalg.det(matrix)))"
   ]
  },
  {
   "cell_type": "code",
   "execution_count": 12,
   "id": "82c9b3bb",
   "metadata": {},
   "outputs": [
    {
     "name": "stdout",
     "output_type": "stream",
     "text": [
      "[1 2 3] x [4 5 6] = [-3  6 -3]\n"
     ]
    }
   ],
   "source": [
    "import numpy as np\n",
    "\n",
    "vec1=np.array([1,2,3])\n",
    "vec2=np.array([4,5,6])\n",
    "\n",
    "print(\"{} x {} = {}\".format(vec1, vec2,np.cross(vec1,vec2) ))\n"
   ]
  },
  {
   "cell_type": "code",
   "execution_count": 11,
   "id": "f8d2ac59",
   "metadata": {},
   "outputs": [
    {
     "name": "stdout",
     "output_type": "stream",
     "text": [
      "[-1. -4.  3.]\n"
     ]
    }
   ],
   "source": [
    "import numpy as np\n",
    "\n",
    "A=np.array([[1,2,-2],[2,1,-5],[1,-4,1]])\n",
    "B=np.array([-15,-21,18])\n",
    "X=np.linalg.solve(A,B)\n",
    "print(X)"
   ]
  },
  {
   "cell_type": "code",
   "execution_count": null,
   "id": "991f57ba",
   "metadata": {},
   "outputs": [],
   "source": []
  }
 ],
 "metadata": {
  "kernelspec": {
   "display_name": "Python 3 (ipykernel)",
   "language": "python",
   "name": "python3"
  },
  "language_info": {
   "codemirror_mode": {
    "name": "ipython",
    "version": 3
   },
   "file_extension": ".py",
   "mimetype": "text/x-python",
   "name": "python",
   "nbconvert_exporter": "python",
   "pygments_lexer": "ipython3",
   "version": "3.9.13"
  }
 },
 "nbformat": 4,
 "nbformat_minor": 5
}
