{
 "cells": [
  {
   "cell_type": "code",
   "execution_count": 9,
   "id": "4196dc58",
   "metadata": {},
   "outputs": [
    {
     "name": "stdout",
     "output_type": "stream",
     "text": [
      "Eigenvalue:[-0.37228132  5.37228132]\n",
      "Eigenvector:[[-0.82456484 -0.41597356]\n",
      " [ 0.56576746 -0.90937671]]\n",
      "Determinant: -2.0000000000000004\n",
      "Cross product: [1 2 3] x [4 5 6] = [-3  6 -3]\n",
      "Solution: [-1. -4.  3.]\n"
     ]
    }
   ],
   "source": [
    "import numpy as np\n",
    "\n",
    "def main():\n",
    "    eig=np.linalg.eig\n",
    "    matrix=np.matrix([[1,2],[3,4]])\n",
    "\n",
    "    print('Eigenvalue:{}'.format(eig(matrix)[0]))\n",
    "    print('Eigenvector:{}'.format(eig(matrix)[1]))\n",
    "    print('Determinant: {}'.format(np.linalg.det(matrix)))\n",
    "    vec1=np.array([1,2,3])\n",
    "    vec2=np.array([4,5,6])\n",
    "\n",
    "    print(\"Cross product: {} x {} = {}\".format(vec1, vec2,np.cross(vec1,vec2) ))\n",
    "    \n",
    "    A=np.array([[1,2,-2],[2,1,-5],[1,-4,1]])\n",
    "    B=np.array([-15,-21,18])\n",
    "    X=np.linalg.solve(A,B)\n",
    "    print(\"Solution: {}\".format(X))\n",
    "if __name__==\"__main__\":\n",
    "    main()"
   ]
  },
  {
   "cell_type": "code",
   "execution_count": null,
   "id": "be28ee7c",
   "metadata": {},
   "outputs": [],
   "source": []
  }
 ],
 "metadata": {
  "kernelspec": {
   "display_name": "Python 3 (ipykernel)",
   "language": "python",
   "name": "python3"
  },
  "language_info": {
   "codemirror_mode": {
    "name": "ipython",
    "version": 3
   },
   "file_extension": ".py",
   "mimetype": "text/x-python",
   "name": "python",
   "nbconvert_exporter": "python",
   "pygments_lexer": "ipython3",
   "version": "3.9.13"
  }
 },
 "nbformat": 4,
 "nbformat_minor": 5
}
